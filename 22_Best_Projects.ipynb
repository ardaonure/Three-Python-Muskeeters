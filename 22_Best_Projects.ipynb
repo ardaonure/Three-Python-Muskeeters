{
 "cells": [
  {
   "cell_type": "code",
   "execution_count": 1,
   "metadata": {},
   "outputs": [
    {
     "name": "stdout",
     "output_type": "stream",
     "text": [
      "hello w3 muskeeters\n",
      "değişikliten sonra kaydet commit yap ve açıklama gir\n"
     ]
    }
   ],
   "source": [
    "print(\"hello w3 muskeeters\")\n",
    "print(\"değişikliten sonra kaydet commit yap ve açıklama gir\")\n",
    "#Şampiyon TS\n",
    "#Şampiyon Emirhan\n",
    "#Şampiyon Hamza \n",
    "#Şampiyon Arda baba\n",
    "#Şampiyon GS\n",
    "#Çok çok teşekkürler biraz uğraştık ama oldu \n",
    "#ben kaçar siz yazın burdan\n",
    "# eyvallah bende kaçıyorum sağol bugün çok verimli geçti aslında  işin yarısını yaptık "
   ]
  }
 ],
 "metadata": {
  "interpreter": {
   "hash": "75262ce2e1e008125d7127bc1c19b652f1fc32fc3a05ad4ca46df124b093e07e"
  },
  "kernelspec": {
   "display_name": "Python 3.9.12 64-bit (windows store)",
   "language": "python",
   "name": "python3"
  },
  "language_info": {
   "codemirror_mode": {
    "name": "ipython",
    "version": 3
   },
   "file_extension": ".py",
   "mimetype": "text/x-python",
   "name": "python",
   "nbconvert_exporter": "python",
   "pygments_lexer": "ipython3",
   "version": "3.10.4"
  },
  "orig_nbformat": 4
 },
 "nbformat": 4,
 "nbformat_minor": 2
}
