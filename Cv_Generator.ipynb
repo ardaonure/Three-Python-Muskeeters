{
 "cells": [
  {
   "cell_type": "code",
   "execution_count": 1,
   "metadata": {},
   "outputs": [
    {
     "name": "stderr",
     "output_type": "stream",
     "text": [
      "C:\\Users\\Aslı\\AppData\\Local\\Packages\\PythonSoftwareFoundation.Python.3.9_qbz5n2kfra8p0\\LocalCache\\local-packages\\Python39\\site-packages\\tqdm\\auto.py:22: TqdmWarning: IProgress not found. Please update jupyter and ipywidgets. See https://ipywidgets.readthedocs.io/en/stable/user_install.html\n",
      "  from .autonotebook import tqdm as notebook_tqdm\n",
      "100%|██████████| 1/1 [00:02<00:00,  2.95s/it]\n",
      "100%|██████████| 1/1 [00:02<00:00,  2.68s/it]\n"
     ]
    }
   ],
   "source": [
    "#                     CV OLUŞTURMA PROGRAMI\n",
    "#------------------A).Docx Belge Oluşturma Bölümü----------------------------\n",
    "#https://python-docx.readthedocs.io/en/latest/\n",
    "#Gerekli olan paket kodu: pip install python-docx\n",
    "#Çalıştığınız klasördeki fotoğrafın adı monty-truth.png olmalıdır\n",
    "#Çıktı olarak demo.docx oluşturur.\n",
    "#Gerekli bilgileri kullanıcı doldurmalıdır.\n",
    "\n",
    "from docx import Document\n",
    "from docx.shared import Inches\n",
    "\n",
    "document = Document()\n",
    "\n",
    "document.add_heading('Document Title', 0)\n",
    "\n",
    "p = document.add_paragraph('A plain paragraph having some ')\n",
    "p.add_run('bold').bold = True\n",
    "p.add_run(' and some ')\n",
    "p.add_run('italic.').italic = True\n",
    "\n",
    "document.add_heading('Heading, level 1', level=1)\n",
    "document.add_paragraph('Intense quote', style='Intense Quote')\n",
    "\n",
    "document.add_paragraph(\n",
    "    'first item in unordered list', style='List Bullet'\n",
    ")\n",
    "document.add_paragraph(\n",
    "    'first item in ordered list', style='List Number'\n",
    ")\n",
    "\n",
    "document.add_picture('monty-truth.png', width=Inches(1.25))\n",
    "\n",
    "records = (\n",
    "    (3, '101', 'Spam'),\n",
    "    (7, '422', 'Eggs'),\n",
    "    (4, '631', 'Spam, spam, eggs, and spam')\n",
    ")\n",
    "\n",
    "table = document.add_table(rows=1, cols=3)\n",
    "hdr_cells = table.rows[0].cells\n",
    "hdr_cells[0].text = 'Qty'\n",
    "hdr_cells[1].text = 'Id'\n",
    "hdr_cells[2].text = 'Desc'\n",
    "for qty, id, desc in records:\n",
    "    row_cells = table.add_row().cells\n",
    "    row_cells[0].text = str(qty)\n",
    "    row_cells[1].text = id\n",
    "    row_cells[2].text = desc\n",
    "\n",
    "document.add_page_break()\n",
    "\n",
    "document.save('demo.docx')\n",
    "\n",
    "\n",
    "#------------------B).Docx 'den Pdf 'e Dönüştürme Bölümü------------------\n",
    "#.Docx 'den Pdf'e dönüşüm yapılacaksa bu bölüm çalışır.\n",
    "#https://pypi.org/project/docx2pdf/\n",
    "#Gereken paket kodu: pip install docx2pdf\n",
    "\n",
    "from docx2pdf import convert\n",
    "\n",
    "convert(\"demo.docx\")\n",
    "convert(\"demo.docx\", \"demo.pdf\")\n",
    "\n",
    "\n",
    "#--------------------------------------------------------------------------\n"
   ]
  }
 ],
 "metadata": {
  "interpreter": {
   "hash": "75262ce2e1e008125d7127bc1c19b652f1fc32fc3a05ad4ca46df124b093e07e"
  },
  "kernelspec": {
   "display_name": "Python 3.9.12 64-bit (windows store)",
   "language": "python",
   "name": "python3"
  },
  "language_info": {
   "codemirror_mode": {
    "name": "ipython",
    "version": 3
   },
   "file_extension": ".py",
   "mimetype": "text/x-python",
   "name": "python",
   "nbconvert_exporter": "python",
   "pygments_lexer": "ipython3",
   "version": "3.9.12"
  },
  "orig_nbformat": 4
 },
 "nbformat": 4,
 "nbformat_minor": 2
}
